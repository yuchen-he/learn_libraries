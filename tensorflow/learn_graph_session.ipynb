{
 "cells": [
  {
   "cell_type": "code",
   "execution_count": 13,
   "metadata": {},
   "outputs": [],
   "source": [
    "import tensorflow as tf\n",
    "import numpy as np"
   ]
  },
  {
   "cell_type": "markdown",
   "metadata": {},
   "source": [
    "## Graph"
   ]
  },
  {
   "cell_type": "code",
   "execution_count": 17,
   "metadata": {},
   "outputs": [
    {
     "name": "stdout",
     "output_type": "stream",
     "text": [
      "<tensorflow.python.framework.ops.Graph object at 0x7fafe28b3750>\n",
      "<tensorflow.python.framework.ops.Graph object at 0x7fafe28b3750>\n"
     ]
    }
   ],
   "source": [
    "# 一旦开始你的任务，就已经有一个默认的图已经创建好了。\n",
    "# 而且可以通过调用tf.get_default_graph()来访问到。\n",
    "# 添加一个操作到默认的图里面，只要简单的调用一个定义了新操作的函数就行。\n",
    "\n",
    "a = tf.constant(value=2, name='const_a')\n",
    "b = tf.constant(value=5, name='const_b')\n",
    "c = tf.add(a, b)\n",
    "print(c.graph)\n",
    "print(tf.get_default_graph())"
   ]
  },
  {
   "cell_type": "code",
   "execution_count": 30,
   "metadata": {},
   "outputs": [
    {
     "name": "stdout",
     "output_type": "stream",
     "text": [
      "<tensorflow.python.framework.ops.Graph object at 0x7fafe28b9cd0>\n",
      "<tensorflow.python.framework.ops.Graph object at 0x7fafe28b9cd0>\n"
     ]
    }
   ],
   "source": [
    "# 另外一种典型的用法就是要使用到Graph.as_default()的上下文管理器\n",
    "# 它能够在这个上下文里面覆盖默认的图。\n",
    "\n",
    "my_graph = tf.Graph()    #tf.Big_character means a Class of tf\n",
    "print(my_graph)\n",
    "with my_graph.as_default():\n",
    "    d = tf.constant(value=5, name='const_d')\n",
    "    f = tf.constant(value=5, name='const_f')\n",
    "    g = tf.add(d, f)\n",
    "    print(g.graph)"
   ]
  },
  {
   "cell_type": "code",
   "execution_count": 27,
   "metadata": {},
   "outputs": [
    {
     "name": "stdout",
     "output_type": "stream",
     "text": [
      "<tensorflow.python.framework.ops.Graph object at 0x7fafe28b3750>\n"
     ]
    }
   ],
   "source": [
    "# Since e is not in the context manager of my_graph, \n",
    "# e will be added onto the default_graph\n",
    "\n",
    "my_graph.as_default()\n",
    "e = tf.constant(value=20, name='const_e')\n",
    "print(e.graph)"
   ]
  },
  {
   "cell_type": "code",
   "execution_count": 28,
   "metadata": {},
   "outputs": [
    {
     "data": {
      "text/plain": [
       "<tf.Operation 'const_d' type=Const>"
      ]
     },
     "execution_count": 28,
     "metadata": {},
     "output_type": "execute_result"
    }
   ],
   "source": [
    "# if defined the name when create a value, you can get it by name\n",
    "my_graph.get_operation_by_name(\"const_d\")"
   ]
  },
  {
   "cell_type": "markdown",
   "metadata": {},
   "source": [
    "## Session"
   ]
  },
  {
   "cell_type": "code",
   "execution_count": 36,
   "metadata": {},
   "outputs": [
    {
     "name": "stdout",
     "output_type": "stream",
     "text": [
      "7\n",
      "<tensorflow.python.framework.ops.Graph object at 0x7fafe28b3750>\n"
     ]
    }
   ],
   "source": [
    "# 运行TensorFLow操作（operations）的类,一个Seesion包含了操作对象执行的环境. \n",
    "sess = tf.Session()  # this will be de default session\n",
    "print(sess.run(c))\n",
    "print(sess.graph)    # -> default graph\n",
    "sess.close()"
   ]
  },
  {
   "cell_type": "code",
   "execution_count": 33,
   "metadata": {},
   "outputs": [
    {
     "name": "stdout",
     "output_type": "stream",
     "text": [
      "10\n"
     ]
    }
   ],
   "source": [
    "# can also specify the graph used in the session,\n",
    "# so that the program can run session on the specified graph \n",
    "\n",
    "with tf.Session(graph=my_graph) as sess:\n",
    "    print(sess.run(g))"
   ]
  },
  {
   "cell_type": "code",
   "execution_count": 37,
   "metadata": {},
   "outputs": [
    {
     "data": {
      "text/plain": [
       "<tensorflow.python.framework.ops.Graph at 0x7fafe28b3750>"
      ]
     },
     "execution_count": 37,
     "metadata": {},
     "output_type": "execute_result"
    }
   ],
   "source": [
    "sess.graph      # because sess is defined above with graph=my_graph"
   ]
  },
  {
   "cell_type": "code",
   "execution_count": 40,
   "metadata": {},
   "outputs": [
    {
     "data": {
      "text/plain": [
       "True"
      ]
     },
     "execution_count": 40,
     "metadata": {},
     "output_type": "execute_result"
    }
   ],
   "source": [
    "# since https://stackoverflow.com/questions/47721792/tensorflow-tf-get-default-session-after-sess-tf-session-is-none\n",
    "# the default session is None now\n",
    "\n",
    "tf.get_default_session() == None  "
   ]
  },
  {
   "cell_type": "code",
   "execution_count": 42,
   "metadata": {},
   "outputs": [
    {
     "name": "stdout",
     "output_type": "stream",
     "text": [
      "False\n",
      "False\n"
     ]
    }
   ],
   "source": [
    "# we can use 2 method to get default session\n",
    "\n",
    "with tf.Session() as sess:\n",
    "    print(tf.get_default_session() == None )\n",
    "\n",
    "sess = tf.InteractiveSession()\n",
    "print(tf.get_default_session() == None )"
   ]
  }
 ],
 "metadata": {
  "kernelspec": {
   "display_name": "Python 2",
   "language": "python",
   "name": "python2"
  },
  "language_info": {
   "codemirror_mode": {
    "name": "ipython",
    "version": 2
   },
   "file_extension": ".py",
   "mimetype": "text/x-python",
   "name": "python",
   "nbconvert_exporter": "python",
   "pygments_lexer": "ipython2",
   "version": "2.7.16"
  }
 },
 "nbformat": 4,
 "nbformat_minor": 2
}
