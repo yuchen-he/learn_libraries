{
 "cells": [
  {
   "cell_type": "markdown",
   "metadata": {},
   "source": [
    "# Python 风格的对象"
   ]
  },
  {
   "cell_type": "code",
   "execution_count": 40,
   "metadata": {},
   "outputs": [],
   "source": [
    "import math\n",
    "\n",
    "class Vector:\n",
    "    \n",
    "    __slots__ = ('__x', '__y')\n",
    "    \n",
    "    def __init__(self, x, y):\n",
    "        self.__x = float(x)\n",
    "        self.__y = float(y)\n",
    "        \n",
    "    @property\n",
    "    def x(self):\n",
    "        return self.__x\n",
    "    \n",
    "    @property\n",
    "    def y(self):\n",
    "        return self.__y\n",
    "    \n",
    "    # He add\n",
    "    @x.setter\n",
    "    def x(self, x:float) -> float:\n",
    "        if x < 0 or x > 1000:\n",
    "            raise ValueError(\"This value is out of range!\\nPlease reset it!\")\n",
    "        else:\n",
    "            print(f\"x has been reset to {x}\")\n",
    "            self.__x = x\n",
    "    \n",
    "    # He add\n",
    "    @y.setter\n",
    "    def y(self, y:float) -> float:\n",
    "        if y < 0 or y > 1000:\n",
    "            raise ValueError(\"This value is out of range! Please reset it!\")\n",
    "        else:\n",
    "            print(f\"y has been reset to {y}\")\n",
    "            self.__y = y\n",
    "        \n",
    "    # 对str提供支持    \n",
    "    def __str__(self):\n",
    "        return str(tuple(self))\n",
    "    \n",
    "    def __iter__(self):\n",
    "        return (i for i in (self.x , self.y))\n",
    "    \n",
    "    # 对 repr提供支持\n",
    "    def __repr__(self):\n",
    "        \"\"\"\n",
    "        return Vector(x, y)\n",
    "        \"\"\"\n",
    "        return f\"{type(self).__name__}({self.x}, {self.y})\"\n",
    "    \n",
    "    # 对 hash 提供支持\n",
    "    def __hash__(self):\n",
    "        \n",
    "        return hash(self.x) ^ hash(self.y)\n",
    "    \n",
    "    # 对 abs 提供支持\n",
    "    def __abs__(self):\n",
    "        return math.hypot(self.x, self.y)\n",
    "    \n",
    "    # 对bool提供支持\n",
    "    def __bool__(self):\n",
    "        return bool(abs(self))\n",
    "        "
   ]
  },
  {
   "cell_type": "code",
   "execution_count": 41,
   "metadata": {},
   "outputs": [
    {
     "name": "stdout",
     "output_type": "stream",
     "text": [
      "The original vector is: (3.0, 4.0)\n",
      "x has been reset to 303\n",
      "y has been reset to 555\n",
      "The present vector is: (303, 555)\n"
     ]
    }
   ],
   "source": [
    "v1 = Vector(3, 4)\n",
    "print(\"The original vector is: ({}, {})\".format(v1.x, v1.y))\n",
    "v1.x = 303\n",
    "v1.y = 555\n",
    "print(\"The present vector is: ({}, {})\".format(v1.x, v1.y))"
   ]
  },
  {
   "cell_type": "code",
   "execution_count": 29,
   "metadata": {},
   "outputs": [
    {
     "name": "stdout",
     "output_type": "stream",
     "text": [
      "632.3242838923711\n",
      "772\n",
      "True\n",
      "(303, 555)\n"
     ]
    }
   ],
   "source": [
    "print(abs(v1))\n",
    "print(hash(v1))\n",
    "print(bool(v1))\n",
    "print(str(v1))"
   ]
  },
  {
   "cell_type": "code",
   "execution_count": 30,
   "metadata": {},
   "outputs": [],
   "source": [
    "class Vector2d(Vector):\n",
    "    \n",
    "    def __init__(self, x, y):\n",
    "        super().__init__(x, y)\n",
    "        self.__x = x\n",
    "        self.__y = y"
   ]
  },
  {
   "cell_type": "code",
   "execution_count": 31,
   "metadata": {},
   "outputs": [],
   "source": [
    "v2 = Vector2d(5, 6)"
   ]
  },
  {
   "cell_type": "code",
   "execution_count": 32,
   "metadata": {},
   "outputs": [
    {
     "data": {
      "text/plain": [
       "5.0"
      ]
     },
     "execution_count": 32,
     "metadata": {},
     "output_type": "execute_result"
    }
   ],
   "source": [
    "# Vector2 will inherite Vector Class, so we can access v2.x by \n",
    "# @property \n",
    "# def x(self)\n",
    "v2.x"
   ]
  },
  {
   "cell_type": "markdown",
   "metadata": {},
   "source": [
    "# 受保护的属性和私有属性\n",
    "\n",
    "```\n",
    "单下划线开头 _x\n",
    "\n",
    "双下划线开头 __y\n",
    "\n",
    "单下划线结尾 class_, 防止和内置类型冲突\n",
    "\n",
    "```"
   ]
  },
  {
   "cell_type": "code",
   "execution_count": 324,
   "metadata": {},
   "outputs": [
    {
     "data": {
      "text/plain": [
       "array('d', [0.0, 1.0, 2.0, 3.0, 4.0, 5.0, 6.0, 7.0, 8.0, 9.0, 10.0, 11.0, 12.0, 13.0, 14.0, 15.0, 16.0, 17.0, 18.0, 19.0])"
      ]
     },
     "execution_count": 324,
     "metadata": {},
     "output_type": "execute_result"
    }
   ],
   "source": [
    "array('d', list(range(20)))"
   ]
  },
  {
   "cell_type": "code",
   "execution_count": 320,
   "metadata": {},
   "outputs": [],
   "source": [
    "import math\n",
    "from array import array\n",
    "import reprlib\n",
    "from functools import reduce\n",
    "\n",
    "class Vector:\n",
    "    # N 维 Vector\n",
    "    typecode = 'd'\n",
    "    \n",
    "    def __init__(self, components):\n",
    "        self._components = array(self.typecode, components)\n",
    "        \n",
    "    # 对str提供支持    \n",
    "    def __str__(self):\n",
    "        return str(tuple(self))\n",
    "    \n",
    "    def __iter__(self):\n",
    "        return (i for i in self._components)\n",
    "    \n",
    "    # 对 repr提供支持\n",
    "    def __repr__(self):\n",
    "        \"\"\"\n",
    "        return Vector([1.0, 2.0, 3.0...])\n",
    "        \"\"\"\n",
    "        components = reprlib.repr(self._components)\n",
    "        components = components[components.find('['):-1]\n",
    "        return f\"{type(self).__name__}({components})\"\n",
    "    \n",
    "    # 对 hash 提供支持\n",
    "    def __hash__(self):\n",
    "        hash_list = map(lambda x: hash(x), self._components)\n",
    "        return reduce(lambda a, b: a^b, hash_list, 0)\n",
    "    \n",
    "    def __eq__(self, v):\n",
    "        if len(self) != len(v):\n",
    "            return False\n",
    "        for a, b in zip(self, v):\n",
    "            if a != b:\n",
    "                return False\n",
    "#         return tuple(self) == tuple(v)\n",
    "#         return len(self) == len(self) and all(a == b for a, b in zip(self, v))\n",
    "    \n",
    "    # 对 abs 提供支持\n",
    "    def __abs__(self):\n",
    "        return math.sqrt(sum(x * x for x in self._components))\n",
    "    \n",
    "    # 对bool提供支持\n",
    "    def __bool__(self):\n",
    "        return bool(abs(self))\n",
    "    \n",
    "    # Python的序列协议只需要实现`__len__` ， `__getitem__`两个方法\n",
    "    # 这个类是不是序列类的子类无关紧要，只需要实现这两个方法即可在用在任何期待序列的地方。\n",
    "\n",
    "    def __len__(self):\n",
    "        return len(self._components)\n",
    "    \n",
    "    def __getitem__(self, index):\n",
    "        cls = type(self)\n",
    "        if isinstance(index, slice):\n",
    "            return cls(self._components[index])\n",
    "        elif isinstance(index, int):\n",
    "            return self._components[index]\n",
    "        else:\n",
    "            raise TypeError(f\"{cls.__name__} indices must be integers.\")\n",
    "    \n",
    "    # 运算符重载\n",
    "    # +\n",
    "    def __add__(self, v):\n",
    "        cls = type(self)\n",
    "        return cls([x + y for x, y in itertools.zip_longest(self, v, fillvalue=0)])\n",
    "    \n",
    "    def __radd__(self, v):\n",
    "        return self + v\n",
    "    \n",
    "    # * scalar\n",
    "    def __mul__(self, scalar):\n",
    "        cls = type(self)\n",
    "        return cls([x * scalar for x in self])\n",
    "    \n",
    "    def __rmul__(self, scalar):\n",
    "        return self * scalar\n",
    "        \n",
    "    # dot\n",
    "    def __matmul__(self, v):\n",
    "        cls = type(self)\n",
    "        return sum([a * b for a, b in itertools.zip_longest(self, v, fillvalue=1)])\n",
    "        \n",
    "    def __rmatmul__(self, v):\n",
    "        return self @ v\n",
    "    \n",
    "    @staticmethod\n",
    "    def log():\n",
    "        print('ok')\n",
    "            \n",
    "        "
   ]
  },
  {
   "cell_type": "code",
   "execution_count": null,
   "metadata": {},
   "outputs": [],
   "source": []
  },
  {
   "cell_type": "markdown",
   "metadata": {},
   "source": [
    "# 多重继承与Mixin\n",
    "\n",
    "Mixin 扩展类的功能|"
   ]
  },
  {
   "cell_type": "code",
   "execution_count": 286,
   "metadata": {},
   "outputs": [],
   "source": [
    "import itertools\n",
    "\n",
    "# class Plus:\n",
    "    \n",
    "#     def plus(self, v):\n",
    "#         cls = type(self)\n",
    "#         return cls([x + y for x, y in itertools.zip_longest(self, v, fillvalue=0)])\n",
    "    \n",
    "# class Minus:\n",
    "    \n",
    "#     def minus(self, v):\n",
    "#         cls = type(self)\n",
    "#         return cls([x - y for x, y in itertools.zip_longest(self, v, fillvalue=0)])\n",
    "    \n",
    "class CalculabilityMixin:\n",
    "    # +\n",
    "    def plus(self, v):\n",
    "        cls = type(self)\n",
    "        return cls([x + y for x, y in itertools.zip_longest(self, v, fillvalue=0)])\n",
    "    # - \n",
    "    def minus(self, v):\n",
    "        cls = type(self)\n",
    "        return cls([x - y for x, y in itertools.zip_longest(self, v, fillvalue=0)])\n",
    "    \n",
    "    # @\n",
    "    def dot(self, v):\n",
    "        cls = type(self)\n",
    "        return sum([a * b for a, b in itertools.zip_longest(self, v, fillvalue=1)])\n",
    "    \n",
    "    "
   ]
  },
  {
   "cell_type": "code",
   "execution_count": null,
   "metadata": {},
   "outputs": [],
   "source": [
    "class LogMixin:\n",
    "    \n",
    "    def __getitem__(self, index):\n",
    "        print(f\"Getting value of index {index}.\")\n",
    "        return super().__getitem__(index)"
   ]
  },
  {
   "cell_type": "code",
   "execution_count": 329,
   "metadata": {},
   "outputs": [],
   "source": [
    "class Vector2d(LogMixin, CalculabilityMixin, Vector):\n",
    "    \n",
    "    def __init__(self, *args):\n",
    "        components = list(args) if len(args) > 1 else args[0]\n",
    "        super().__init__(components)\n",
    "        self._x = components[0]\n",
    "        self._y = components[1]"
   ]
  },
  {
   "cell_type": "code",
   "execution_count": 332,
   "metadata": {},
   "outputs": [],
   "source": [
    "v = Vector2d(1, 2)"
   ]
  },
  {
   "cell_type": "code",
   "execution_count": 333,
   "metadata": {},
   "outputs": [
    {
     "name": "stdout",
     "output_type": "stream",
     "text": [
      "Getting value of index 0.\n"
     ]
    },
    {
     "data": {
      "text/plain": [
       "1.0"
      ]
     },
     "execution_count": 333,
     "metadata": {},
     "output_type": "execute_result"
    }
   ],
   "source": [
    "v[0]"
   ]
  },
  {
   "cell_type": "code",
   "execution_count": 335,
   "metadata": {},
   "outputs": [
    {
     "data": {
      "text/plain": [
       "(__main__.Vector2d,\n",
       " __main__.LogMixin,\n",
       " __main__.CalculabilityMixin,\n",
       " __main__.Vector,\n",
       " object)"
      ]
     },
     "execution_count": 335,
     "metadata": {},
     "output_type": "execute_result"
    }
   ],
   "source": [
    "# 注意方法的搜索路径，不然容易产生错误\n",
    "Vector2d.__mro__"
   ]
  },
  {
   "cell_type": "code",
   "execution_count": 311,
   "metadata": {},
   "outputs": [],
   "source": [
    "v3 = Vector2d(1, 2)\n",
    "v4 = Vector2d(3, 4)"
   ]
  },
  {
   "cell_type": "code",
   "execution_count": 312,
   "metadata": {},
   "outputs": [
    {
     "data": {
      "text/plain": [
       "14.0"
      ]
     },
     "execution_count": 312,
     "metadata": {},
     "output_type": "execute_result"
    }
   ],
   "source": [
    "[4, 5] @ v3"
   ]
  },
  {
   "cell_type": "code",
   "execution_count": 298,
   "metadata": {},
   "outputs": [
    {
     "data": {
      "text/plain": [
       "Vector2d([4.0, 7.0])"
      ]
     },
     "execution_count": 298,
     "metadata": {},
     "output_type": "execute_result"
    }
   ],
   "source": [
    "v3 + [3, 5]"
   ]
  },
  {
   "cell_type": "code",
   "execution_count": 294,
   "metadata": {},
   "outputs": [
    {
     "data": {
      "text/plain": [
       "Vector2d([10.0, 20.0])"
      ]
     },
     "execution_count": 294,
     "metadata": {},
     "output_type": "execute_result"
    }
   ],
   "source": [
    "v3 * 10"
   ]
  },
  {
   "cell_type": "code",
   "execution_count": 295,
   "metadata": {},
   "outputs": [
    {
     "data": {
      "text/plain": [
       "11.0"
      ]
     },
     "execution_count": 295,
     "metadata": {},
     "output_type": "execute_result"
    }
   ],
   "source": [
    "v3 @ v4"
   ]
  },
  {
   "cell_type": "markdown",
   "metadata": {},
   "source": [
    "## 1. 查官方文档 https://docs.python.org/3.6/\n",
    "## 2. 直接Google 排名靠前的页面，尤其关注 Stackoverflow\n",
    "\n",
    "\n",
    "## Google Python 风格指南 https://zh-google-styleguide.readthedocs.io/en/latest/google-python-styleguide/contents/"
   ]
  },
  {
   "cell_type": "code",
   "execution_count": null,
   "metadata": {},
   "outputs": [],
   "source": []
  },
  {
   "cell_type": "code",
   "execution_count": null,
   "metadata": {},
   "outputs": [],
   "source": []
  },
  {
   "cell_type": "code",
   "execution_count": 321,
   "metadata": {},
   "outputs": [],
   "source": [
    "\n",
    "def log():\n",
    "    print('ok')\n",
    "\n",
    "class Vector2d(Vector):\n",
    "    \n",
    "    def __init__(self, x, y):\n",
    "        super().__init__([x, y])\n",
    "        self._x = x\n",
    "        self._y = y\n",
    "        \n",
    "        \n",
    "    @classmethod\n",
    "    def build_from_other(cls, other_components):\n",
    "        if isinstance(other_components, list):\n",
    "            x, y = other_components\n",
    "        return cls(x, y)\n",
    "        \n",
    "        \n",
    "    "
   ]
  },
  {
   "cell_type": "code",
   "execution_count": 322,
   "metadata": {},
   "outputs": [],
   "source": [
    "v = Vector2d(1, 2)"
   ]
  },
  {
   "cell_type": "code",
   "execution_count": 323,
   "metadata": {},
   "outputs": [
    {
     "name": "stdout",
     "output_type": "stream",
     "text": [
      "ok\n"
     ]
    }
   ],
   "source": [
    "v.log()"
   ]
  },
  {
   "cell_type": "code",
   "execution_count": 319,
   "metadata": {},
   "outputs": [
    {
     "data": {
      "text/plain": [
       "Vector2d([1.0, 2.0])"
      ]
     },
     "execution_count": 319,
     "metadata": {},
     "output_type": "execute_result"
    }
   ],
   "source": [
    "Vector2d.build_from_other([1, 2])"
   ]
  }
 ],
 "metadata": {
  "kernelspec": {
   "display_name": "Python 3",
   "language": "python",
   "name": "python3"
  },
  "language_info": {
   "codemirror_mode": {
    "name": "ipython",
    "version": 3
   },
   "file_extension": ".py",
   "mimetype": "text/x-python",
   "name": "python",
   "nbconvert_exporter": "python",
   "pygments_lexer": "ipython3",
   "version": "3.6.9"
  }
 },
 "nbformat": 4,
 "nbformat_minor": 4
}
