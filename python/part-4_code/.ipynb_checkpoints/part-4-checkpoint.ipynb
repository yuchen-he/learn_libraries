{
 "cells": [
  {
   "cell_type": "code",
   "execution_count": 40,
   "metadata": {},
   "outputs": [],
   "source": []
  },
  {
   "cell_type": "markdown",
   "metadata": {},
   "source": [
    "# 并行任务 -- 线程、进程对比"
   ]
  },
  {
   "cell_type": "code",
   "execution_count": 6,
   "metadata": {},
   "outputs": [
    {
     "name": "stdout",
     "output_type": "stream",
     "text": [
      "Result [50509111, 50518356, 50474609, 50493550, 50490025, 50439531, 50468961, 50501880]\n"
     ]
    }
   ],
   "source": [
    "\"\"\"\n",
    "CPU密集型任务 -- 线程测试\n",
    "\n",
    "time python thread_worker.py\n",
    "\n",
    "Result [50584212, 50486575, 50481798, 50460655, 50567586, 50463214, 50522043]\n",
    "python thread_work.py  5.75s user 0.08s system 100% cpu 5.830 total\n",
    "\"\"\"\n",
    "\n",
    "import threading\n",
    "import random\n",
    "\n",
    "results= []\n",
    "def compute():\n",
    "    results.append(\n",
    "        sum([random.randint(1, 100) for _ in range(1000000)])\n",
    "    )  \n",
    "\n",
    "workers = [threading.Thread(target=compute) for _ in range(8)]\n",
    "\n",
    "for work in workers:\n",
    "    work.start()\n",
    "    \n",
    "for work in workers:\n",
    "    work.join()\n",
    "\n",
    "print(f\"Result {results}\")"
   ]
  },
  {
   "cell_type": "code",
   "execution_count": null,
   "metadata": {},
   "outputs": [],
   "source": [
    "\"\"\"\n",
    "CPU密集型任务 -- 进程测试\n",
    "\n",
    "time python process_worker.py\n",
    "\n",
    "Result [50545553, 50493810, 50511435, 50514261, 50432686, 50449326, 50514232, 50545287]\n",
    "python process_worker.py  9.88s user 0.08s system 716% cpu 1.391 total\n",
    "\"\"\"\n",
    "\n",
    "import multiprocessing\n",
    "import random\n",
    "\n",
    "def compute(n):\n",
    "    return sum([random.randint(1, 100) for _ in range(1000000)])\n",
    "\n",
    "\n",
    "pool = multiprocessing.Pool(6)\n",
    "\n",
    "print(f\"Result {pool.map(compute, range(8))}\")"
   ]
  },
  {
   "cell_type": "markdown",
   "metadata": {},
   "source": [
    "# 使用futures模块\n",
    "\n",
    "1. concurent.futures 模块 有ThreadPoolExecutor、ProcessPoolExecutor两个类\n",
    "\n",
    "2. 接口类似，不用关心太多细节。切换使用进程或者线程，代码无需做太多更改。\n"
   ]
  },
  {
   "cell_type": "code",
   "execution_count": null,
   "metadata": {},
   "outputs": [],
   "source": [
    "# thread_worker_with_future.py\n",
    "import random\n",
    "import threading\n",
    "from concurrent import futures\n",
    "\n",
    "def compute():\n",
    "    return sum([random.randint(1, 100) for _ in range (1000000)])\n",
    "\n",
    "with futures.ThreadPoolExecutor(8) as executor:\n",
    "    todo = [executor.submit(compute) for _ in range(8)]\n",
    "\n",
    "    results = []\n",
    "    for future in futures.as_completed(todo):\n",
    "        res = future.result()\n",
    "        results.append(res)\n",
    "\n",
    "print(f\"Result {results}\")"
   ]
  },
  {
   "cell_type": "code",
   "execution_count": null,
   "metadata": {},
   "outputs": [],
   "source": [
    "# process_worker_with_future.py\n",
    "import random\n",
    "import threading\n",
    "from concurrent import futures\n",
    "\n",
    "def compute():\n",
    "    return sum([random.randint(1, 100) for _ in range (1000000)])\n",
    "\n",
    "with futures.ProcessPoolExecutor(8) as executor:\n",
    "    todo = [executor.submit(compute) for _ in range(8)]\n",
    "\n",
    "    results = []\n",
    "    for future in futures.as_completed(todo):\n",
    "        res = future.result()\n",
    "        results.append(res)\n",
    "\n",
    "\n",
    "\n",
    "\n",
    "print(f\"Result {results}\")"
   ]
  },
  {
   "cell_type": "code",
   "execution_count": null,
   "metadata": {},
   "outputs": [],
   "source": []
  },
  {
   "cell_type": "markdown",
   "metadata": {},
   "source": [
    "# 同步问题"
   ]
  },
  {
   "cell_type": "code",
   "execution_count": 7,
   "metadata": {},
   "outputs": [
    {
     "data": {
      "text/plain": [
       "500"
      ]
     },
     "execution_count": 7,
     "metadata": {},
     "output_type": "execute_result"
    }
   ],
   "source": [
    "# 加锁\n",
    "import time\n",
    "from threading import Lock\n",
    "\n",
    "class Account:\n",
    "    \n",
    "    def __init__(self, money=100):\n",
    "        self.money = money\n",
    "        self._lock = Lock()\n",
    "    \n",
    "    def save(self, delta):\n",
    "        with self._lock:\n",
    "            self.money += delta\n",
    "    \n",
    "    def withdraw(self, delta):\n",
    "        with self._lock:\n",
    "            self.money -= delta \n",
    "            \n",
    "account = Account(500)\n",
    "\n",
    "def change(n):\n",
    "    account.save(n)\n",
    "    account.withdraw(n)\n",
    "    \n",
    "def task(n):\n",
    "    for _ in range(10000):\n",
    "        change(n)\n",
    "\n",
    "tasks = [threading.Thread(target=task, args=(money, )) for money in [300, 400, 500, 600]]\n",
    "\n",
    "for task in tasks:\n",
    "    task.start()\n",
    "for task in tasks:\n",
    "    task.join()\n",
    "\n",
    "account.money"
   ]
  },
  {
   "cell_type": "code",
   "execution_count": 43,
   "metadata": {},
   "outputs": [],
   "source": []
  },
  {
   "cell_type": "markdown",
   "metadata": {},
   "source": [
    "# 解决死锁 --> 一种解决方案, 获取锁的时候按顺序获取"
   ]
  },
  {
   "cell_type": "code",
   "execution_count": 57,
   "metadata": {},
   "outputs": [],
   "source": [
    "class Acquire:\n",
    "    \n",
    "    def __init__(self, *locks):\n",
    "        self._locks = sorted(locks, key=lambda x: id(x))\n",
    "        \n",
    "    def __enter__(self):\n",
    "        for lock in self._locks:\n",
    "            lock.acquire()\n",
    "    \n",
    "    def __exit__(self, exe_type, exe_value, trace):\n",
    "        for lock in reversed(self._locks):\n",
    "            lock.release()\n",
    "            \n",
    "# 一种哲学家就餐问题的jx'j\n",
    "def philosopher(left, right):\n",
    "    while True:\n",
    "        with Acquire(left, right):\n",
    "            print(f\"Thread {threading.currentThread()} is eating...\")\n",
    "            \n",
    "chopsticks = [threading.Lock() for _ in range(5)]\n",
    "for i in range(5):\n",
    "    t = threading.Thread(target=philosopher, args=(chopsticks[i], chopsticks[(i+1) % 5]))\n",
    "    t.start()\n",
    "    t.join()"
   ]
  },
  {
   "cell_type": "markdown",
   "metadata": {},
   "source": [
    "# Celery"
   ]
  },
  {
   "cell_type": "code",
   "execution_count": null,
   "metadata": {},
   "outputs": [],
   "source": [
    "from celery import Celery\n",
    "import time\n",
    "\n",
    "\n",
    "broker = 'redis://172.17.0.6:6379'  # tasks send\n",
    "backend = 'redis://172.17.0.6:6379' # results \n",
    "\n",
    "app = Celery('task_demo', broker=broker, backend=backend)\n",
    "\n",
    "@app.task\n",
    "def add(x, y):\n",
    "    time.sleep(10)\n",
    "    return x + y\n",
    "\n",
    "# 任务调度，获取结果\n",
    "futures = [add.delay(x, y) for x, y in zip(range(10), range(10, 20))]\n",
    "for future in futures:\n",
    "    print(future.ready())\n",
    "    \n",
    "results = [f.result for f in futures]"
   ]
  },
  {
   "cell_type": "code",
   "execution_count": null,
   "metadata": {},
   "outputs": [],
   "source": []
  },
  {
   "cell_type": "markdown",
   "metadata": {},
   "source": [
    "# 分布式爬虫架构\n"
   ]
  },
  {
   "cell_type": "markdown",
   "metadata": {},
   "source": [
    "![爬虫架构](./分布式爬虫.png)"
   ]
  },
  {
   "cell_type": "code",
   "execution_count": null,
   "metadata": {},
   "outputs": [],
   "source": [
    "\"\"\"\n",
    "反爬\n",
    "1·代理\n",
    "2.User-agent\n",
    "\n",
    "3. 验证码 （相应的包。）（深度学习 -》 验证码识别器） JS， Python\n",
    "4. 加密 （js混淆）\n",
    "5. 模拟浏览器获取动态数据\n",
    "\"\"\""
   ]
  },
  {
   "cell_type": "markdown",
   "metadata": {},
   "source": [
    "# Ray 分布式实战文档"
   ]
  },
  {
   "cell_type": "markdown",
   "metadata": {},
   "source": [
    "\"\"\"\n",
    "\n",
    "1.数据准备\n",
    "\n",
    "- [wiki文档下载链接](https://dumps.wikimedia.org/enwiki/latest/enwiki-latest-pages-articles-multistream27.xml-p53163464p54663464.bz2)\n",
    "\n",
    "- [wiki数据抽取工具](https://github.com/attardi/wikiextractor)\n",
    "\n",
    "\n",
    "2.环境配置\n",
    "\n",
    "- [Miniconda快速搭建Python环境](https://docs.conda.io/en/latest/miniconda.html)\n",
    "\n",
    "- 安装Ray: pip install ray\n",
    "\n",
    "3.集群搭建\n",
    "\n",
    "准备：\n",
    "\n",
    "虚拟机三台: Node1(172.17.0.1)、Node2(172.17.0.2)、Node3(172.17.0.3)\n",
    "\n",
    "redis服务：172.17.0.1:6379\n",
    "\n",
    "\n",
    "\n",
    "- 选择Node1为Head Node： \n",
    "\n",
    " ray start --head --redis-port-6379\n",
    "\n",
    "- Node2, Node3\n",
    "\n",
    " ray start --redis-address 172.17.0.1:6379\n",
    "\n",
    "\n",
    "4.运行程序\n",
    "\n",
    "wiki 数据解析到 Node1节点的/data目录\n",
    "\n",
    "python mapreduce_parell.py \n",
    "\n",
    "\"\"\""
   ]
  },
  {
   "cell_type": "markdown",
   "metadata": {},
   "source": [
    "# Ray相关补充资料\n",
    "\n",
    "- [加速Pandas - modin](https://github.com/modin-project/modin)\n",
    "\n",
    "- [超参调整 - Tune](https://ray.readthedocs.io/en/latest/tune.html)"
   ]
  },
  {
   "cell_type": "code",
   "execution_count": null,
   "metadata": {},
   "outputs": [],
   "source": []
  }
 ],
 "metadata": {
  "kernelspec": {
   "display_name": "Python 3",
   "language": "python",
   "name": "python3"
  },
  "language_info": {
   "codemirror_mode": {
    "name": "ipython",
    "version": 3
   },
   "file_extension": ".py",
   "mimetype": "text/x-python",
   "name": "python",
   "nbconvert_exporter": "python",
   "pygments_lexer": "ipython3",
   "version": "3.6.9"
  }
 },
 "nbformat": 4,
 "nbformat_minor": 4
}
