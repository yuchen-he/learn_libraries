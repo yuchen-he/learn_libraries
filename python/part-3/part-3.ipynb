{
 "cells": [
  {
   "cell_type": "markdown",
   "metadata": {},
   "source": [
    "# 异常处理"
   ]
  },
  {
   "cell_type": "code",
   "execution_count": 27,
   "metadata": {},
   "outputs": [],
   "source": [
    "# 简单模板\n",
    "try:\n",
    "    pass\n",
    "except:\n",
    "    pass\n",
    "else:\n",
    "    pass\n",
    "\n",
    "# finally模块\n",
    "\n",
    "try:\n",
    "    pass\n",
    "except:\n",
    "    pass\n",
    "finally:\n",
    "    pass"
   ]
  },
  {
   "cell_type": "code",
   "execution_count": 16,
   "metadata": {},
   "outputs": [],
   "source": [
    "def div(a, b):\n",
    "    try:\n",
    "        print(a / b)\n",
    "    except (ZeroDivisionError):\n",
    "        print(\"args is invalid.\")\n",
    "        print(\"Error: b should not be 0\")\n",
    "#     except (TypeError):\n",
    "#         print(\"args is invalid.\")\n",
    "#         print(\"Error: b should be a int or float\")\n",
    "    except Exception as e:\n",
    "        print(f\"Unexpected Error: {e}\")\n",
    "#         raise Exception('Unexpected Error')\n",
    "    else:\n",
    "        print('no error')\n",
    "    finally:\n",
    "        print('This is final')"
   ]
  },
  {
   "cell_type": "code",
   "execution_count": 17,
   "metadata": {},
   "outputs": [
    {
     "name": "stdout",
     "output_type": "stream",
     "text": [
      "Unexpected Error: unsupported operand type(s) for /: 'int' and 'str'\n",
      "This is final\n"
     ]
    }
   ],
   "source": [
    "div(1, \"0\")"
   ]
  },
  {
   "cell_type": "markdown",
   "metadata": {},
   "source": [
    "## -自定义异常类"
   ]
  },
  {
   "cell_type": "code",
   "execution_count": 52,
   "metadata": {},
   "outputs": [],
   "source": [
    "# 举例：网络类的应用工具\n",
    "# 定义有意义的异常类\n",
    "\n",
    "class NetworkError(Exception):\n",
    "    def __init__(self, *args, **kwargs):\n",
    "        super().__init__(*args, **kwargs)\n",
    "        self.args = args\n",
    "        self.kwargs = kwargs\n",
    "        \n",
    "    def method(self):\n",
    "        pass\n",
    "    \n",
    "\n",
    "class HostnameError(NetworkError):\n",
    "    pass\n",
    "    \"\"\"\n",
    "    if not valid(hostname):\n",
    "        raise HostnameError('host name is invalid.')\n",
    "    \"\"\"\n",
    "\n",
    "class TimeoutError(NetworkError):\n",
    "    pass\n",
    "\n",
    "class ProtocolError(NetworkError):\n",
    "    pass"
   ]
  },
  {
   "cell_type": "code",
   "execution_count": 72,
   "metadata": {},
   "outputs": [],
   "source": [
    "class Tool:\n",
    "    def __init__(self):\n",
    "        pass\n",
    "    \n",
    "    def _recv(self):\n",
    "        pass\n",
    "    \n",
    "    def recv(self):\n",
    "        try:\n",
    "            msg = self._recv()\n",
    "            return msg\n",
    "        except Exception:\n",
    "            raise TimeoutError"
   ]
  },
  {
   "cell_type": "code",
   "execution_count": 53,
   "metadata": {},
   "outputs": [
    {
     "ename": "NameError",
     "evalue": "name 'tool' is not defined",
     "output_type": "error",
     "traceback": [
      "\u001b[0;31m---------------------------------------------------------------------------\u001b[0m",
      "\u001b[0;31mNameError\u001b[0m                                 Traceback (most recent call last)",
      "\u001b[0;32m<ipython-input-53-124a80c798d2>\u001b[0m in \u001b[0;36m<module>\u001b[0;34m\u001b[0m\n\u001b[1;32m      1\u001b[0m \u001b[0;32mtry\u001b[0m\u001b[0;34m:\u001b[0m\u001b[0;34m\u001b[0m\u001b[0;34m\u001b[0m\u001b[0m\n\u001b[0;32m----> 2\u001b[0;31m     \u001b[0mmsg\u001b[0m \u001b[0;34m=\u001b[0m \u001b[0mtool\u001b[0m\u001b[0;34m.\u001b[0m\u001b[0mrecv\u001b[0m\u001b[0;34m(\u001b[0m\u001b[0;34m)\u001b[0m\u001b[0;34m\u001b[0m\u001b[0;34m\u001b[0m\u001b[0m\n\u001b[0m\u001b[1;32m      3\u001b[0m \u001b[0;32mexcept\u001b[0m \u001b[0mHostnameError\u001b[0m \u001b[0;32mas\u001b[0m \u001b[0me\u001b[0m\u001b[0;34m:\u001b[0m\u001b[0;34m\u001b[0m\u001b[0;34m\u001b[0m\u001b[0m\n\u001b[1;32m      4\u001b[0m     \u001b[0mprint\u001b[0m\u001b[0;34m(\u001b[0m\u001b[0mstr\u001b[0m\u001b[0;34m(\u001b[0m\u001b[0me\u001b[0m\u001b[0;34m)\u001b[0m\u001b[0;34m)\u001b[0m\u001b[0;34m\u001b[0m\u001b[0;34m\u001b[0m\u001b[0m\n",
      "\u001b[0;31mNameError\u001b[0m: name 'tool' is not defined"
     ]
    }
   ],
   "source": [
    "try:\n",
    "    # tool是我们实现的网络工具,提供他人去使用\n",
    "    tool = Tool()\n",
    "    msg = tool.recv()\n",
    "except TimeoutError as e:\n",
    "    print(str(e))"
   ]
  },
  {
   "cell_type": "code",
   "execution_count": 60,
   "metadata": {},
   "outputs": [],
   "source": [
    "Exception?"
   ]
  },
  {
   "cell_type": "code",
   "execution_count": 31,
   "metadata": {},
   "outputs": [
    {
     "name": "stdout",
     "output_type": "stream",
     "text": [
      "30,0,3,\"Todoroff, Mr. Lalio\",male,,0,0,349216,7.8958,,S\n",
      "\n",
      "31,0,1,\"Uruchurtu, Don. Manuel E\",male,40,0,0,PC 17601,27.7208,,C\n",
      "\n",
      "32,1,1,\"Spencer, Mrs. William Augustus (Marie Eugenie)\",female,,1,0,PC 17569,146.5208,B78,C\n",
      "\n",
      "33,1,3,\"Glynn, Miss. Mary Agatha\",female,,0,0,335677,7.75,,Q\n",
      "\n",
      "34,0,2,\"Wheadon, Mr. Edward H\",male,66,0,0,C.A. 24579,10.5,,S\n",
      "\n",
      "35,0,1,\"Meyer, Mr. Edgar Joseph\",male,28,1,0,PC 17604,82.1708,,C\n",
      "\n",
      "36,0,1,\"Holverson, Mr. Alexander Oskar\",male,42,1,0,113789,52,,S\n",
      "\n",
      "37,1,3,\"Mamee, Mr. Hanna\",male,,0,0,2677,7.2292,,C\n",
      "\n",
      "38,0,3,\"Cann, Mr. Ernest Charles\",male,21,0,0,A./5. 2152,8.05,,S\n",
      "\n",
      "39,0,3,\"Vander Planke, Miss. Augusta Maria\",female,18,2,0,345764,18,,S\n",
      "\n",
      "40,1,3,\"Nicola-Yarred, Miss. Jamila\",female,14,1,0,2651,11.2417,,C\n",
      "\n"
     ]
    }
   ],
   "source": [
    "try:\n",
    "    f = open('test.txt')\n",
    "    for lines in f.readlines():\n",
    "        print(lines)\n",
    "except Exception as e:\n",
    "    print(e)\n",
    "finally:\n",
    "    f.close()"
   ]
  },
  {
   "cell_type": "code",
   "execution_count": 29,
   "metadata": {},
   "outputs": [
    {
     "data": {
      "text/plain": [
       "<_io.TextIOWrapper name='test.txt' mode='r' encoding='UTF-8'>"
      ]
     },
     "execution_count": 29,
     "metadata": {},
     "output_type": "execute_result"
    }
   ],
   "source": [
    "f"
   ]
  },
  {
   "cell_type": "code",
   "execution_count": 34,
   "metadata": {},
   "outputs": [
    {
     "data": {
      "text/plain": [
       "True"
      ]
     },
     "execution_count": 34,
     "metadata": {},
     "output_type": "execute_result"
    }
   ],
   "source": [
    "f.closed"
   ]
  },
  {
   "cell_type": "code",
   "execution_count": 37,
   "metadata": {},
   "outputs": [
    {
     "name": "stdout",
     "output_type": "stream",
     "text": [
      "30,0,3,\"Todoroff, Mr. Lalio\",male,,0,0,349216,7.8958,,S\n",
      "\n",
      "31,0,1,\"Uruchurtu, Don. Manuel E\",male,40,0,0,PC 17601,27.7208,,C\n",
      "\n",
      "32,1,1,\"Spencer, Mrs. William Augustus (Marie Eugenie)\",female,,1,0,PC 17569,146.5208,B78,C\n",
      "\n",
      "33,1,3,\"Glynn, Miss. Mary Agatha\",female,,0,0,335677,7.75,,Q\n",
      "\n",
      "34,0,2,\"Wheadon, Mr. Edward H\",male,66,0,0,C.A. 24579,10.5,,S\n",
      "\n",
      "35,0,1,\"Meyer, Mr. Edgar Joseph\",male,28,1,0,PC 17604,82.1708,,C\n",
      "\n",
      "36,0,1,\"Holverson, Mr. Alexander Oskar\",male,42,1,0,113789,52,,S\n",
      "\n",
      "37,1,3,\"Mamee, Mr. Hanna\",male,,0,0,2677,7.2292,,C\n",
      "\n",
      "38,0,3,\"Cann, Mr. Ernest Charles\",male,21,0,0,A./5. 2152,8.05,,S\n",
      "\n",
      "39,0,3,\"Vander Planke, Miss. Augusta Maria\",female,18,2,0,345764,18,,S\n",
      "\n",
      "40,1,3,\"Nicola-Yarred, Miss. Jamila\",female,14,1,0,2651,11.2417,,C\n",
      "\n"
     ]
    }
   ],
   "source": [
    "with open('test.txt') as fr:\n",
    "    for lines in fr.readlines():\n",
    "        print(lines)"
   ]
  },
  {
   "cell_type": "code",
   "execution_count": 38,
   "metadata": {},
   "outputs": [
    {
     "data": {
      "text/plain": [
       "<_io.TextIOWrapper name='test.txt' mode='r' encoding='UTF-8'>"
      ]
     },
     "execution_count": 38,
     "metadata": {},
     "output_type": "execute_result"
    }
   ],
   "source": [
    "fr"
   ]
  },
  {
   "cell_type": "code",
   "execution_count": 40,
   "metadata": {},
   "outputs": [
    {
     "data": {
      "text/plain": [
       "True"
      ]
     },
     "execution_count": 40,
     "metadata": {},
     "output_type": "execute_result"
    }
   ],
   "source": [
    "fr.closed"
   ]
  },
  {
   "cell_type": "markdown",
   "metadata": {},
   "source": [
    "# 上下文管理器\n",
    "\n",
    "\n",
    "```\n",
    "实现了\n",
    "__enter__\n",
    "__exit__\n",
    "就是上下文管理器\n",
    "```\n",
    "总结:\n",
    "\n",
    "1.调用方法A\n",
    "\n",
    "2.执行一段代码\n",
    "\n",
    "3.调用方法B"
   ]
  },
  {
   "cell_type": "code",
   "execution_count": null,
   "metadata": {},
   "outputs": [],
   "source": [
    "class Context:\n",
    "    \n",
    "    def __init__(self, file):\n",
    "        self._file = file\n",
    "        self._file_desc = None\n",
    "    \n",
    "    def _open(self):\n",
    "        pass\n",
    "    \n",
    "    def __enter__(self):\n",
    "        \"\"\"\n",
    "        \"\"\"\n",
    "        self._file_desc = self._open(self.file)\n",
    "        return file_desc\n",
    "    \n",
    "    def __exit__(self):\n",
    "        self._file_desc.closed()\n",
    "        \n",
    "\n",
    "with open('test.txt') as fr:\n",
    "    for lines in fr.readlines():\n",
    "        print(lines)"
   ]
  },
  {
   "cell_type": "code",
   "execution_count": 159,
   "metadata": {},
   "outputs": [],
   "source": [
    "import time\n",
    "\n",
    "class TimeRecord:\n",
    "    \n",
    "    def __init__(self):\n",
    "        self._start = 0\n",
    "        self._end = 0\n",
    "    \n",
    "    def __enter__(self):\n",
    "        self._start = time.time()\n",
    "    \n",
    "    def __exit__(self, exc_type, exc_value, traceback):\n",
    "        self._end = time.time()\n",
    "        print(f\"function cost {self._end - self._start}.\")"
   ]
  },
  {
   "cell_type": "code",
   "execution_count": 49,
   "metadata": {},
   "outputs": [],
   "source": [
    "def f(n):\n",
    "    return 1 if n < 2 else f(n-1) + f(n-2)"
   ]
  },
  {
   "cell_type": "code",
   "execution_count": 50,
   "metadata": {},
   "outputs": [
    {
     "name": "stdout",
     "output_type": "stream",
     "text": [
      "args None None None\n",
      "function cost 7.009506225585938e-05.\n"
     ]
    }
   ],
   "source": [
    "with TimeRecord():\n",
    "    f(5)"
   ]
  },
  {
   "cell_type": "code",
   "execution_count": null,
   "metadata": {},
   "outputs": [],
   "source": []
  },
  {
   "cell_type": "code",
   "execution_count": null,
   "metadata": {},
   "outputs": [],
   "source": []
  },
  {
   "cell_type": "code",
   "execution_count": 73,
   "metadata": {},
   "outputs": [],
   "source": [
    "# O(n ** 2) hotspot"
   ]
  },
  {
   "cell_type": "markdown",
   "metadata": {},
   "source": [
    "# 性能优化 -- 时间\n",
    " tool: cProfile 内置\n",
    "\n",
    " - 使用函数去处理\n",
    " \n",
    " 1. 全局与局部变量, 局部变量操作比全局变量要快\n",
    " \n",
    " - dict O(1) \n",
    "   list O(n)"
   ]
  },
  {
   "cell_type": "code",
   "execution_count": 74,
   "metadata": {},
   "outputs": [],
   "source": [
    "# 1. 全局与局部变量, 局部变量操作比全局变量要快"
   ]
  },
  {
   "cell_type": "code",
   "execution_count": 82,
   "metadata": {},
   "outputs": [],
   "source": [
    "s = \"\"\"\n",
    "A wiki is run using wiki software, otherwise known as a wiki engine. A wiki engine is a type of content management system, but it differs from most other such systems, including blog software, in that the content is created without any defined owner or leader, and wikis have little inherent structure, allowing structure to emerge according to the needs of the users.[2] There are dozens of different wiki engines in use, both standalone and part of other software, such as bug tracking systems. Some wiki engines are open source, whereas others are proprietary. Some permit control over different functions (levels of access); for example, editing rights may permit changing, adding, or removing material. Others may permit access without enforcing access control. Other rules may be imposed to organize content.\n",
    "\n",
    "The online encyclopedia project Wikipedia is the most popular wiki-based website, and is one of the most widely viewed sites in the world, having been ranked in the top ten since 2007.[3] Wikipedia is not a single wiki but rather a collection of hundreds of wikis, with each one pertaining to a specific language. In addition to Wikipedia, there are hundreds of thousands of other wikis in use, both public and private, including wikis functioning as knowledge management resources, notetaking tools, community websites, and intranets. The English-language Wikipedia has the largest collection of articles: as of February 2020, it has over 6 million articles. Ward Cunningham, the developer of the first wiki software, WikiWikiWeb, originally described wiki as \"the simplest online database that could possibly work\".[4] \"Wiki\" (pronounced [ˈwiki][note 1]) is a Hawaiian word meaning \"quick\".[5][6][7]\n",
    "\"\"\""
   ]
  },
  {
   "cell_type": "code",
   "execution_count": 83,
   "metadata": {},
   "outputs": [],
   "source": [
    "str_list = s.split(' ')"
   ]
  },
  {
   "cell_type": "code",
   "execution_count": 90,
   "metadata": {},
   "outputs": [],
   "source": [
    "from  random import  shuffle\n",
    "from copy import deepcopy"
   ]
  },
  {
   "cell_type": "code",
   "execution_count": 92,
   "metadata": {},
   "outputs": [],
   "source": [
    "new_list = deepcopy(str_list)"
   ]
  },
  {
   "cell_type": "code",
   "execution_count": 105,
   "metadata": {},
   "outputs": [
    {
     "data": {
      "text/plain": [
       "265"
      ]
     },
     "execution_count": 105,
     "metadata": {},
     "output_type": "execute_result"
    }
   ],
   "source": [
    "len(new_list)"
   ]
  },
  {
   "cell_type": "code",
   "execution_count": 94,
   "metadata": {},
   "outputs": [],
   "source": [
    "shuffle(new_list)"
   ]
  },
  {
   "cell_type": "code",
   "execution_count": 106,
   "metadata": {},
   "outputs": [],
   "source": [
    "targets = new_list[100:200]"
   ]
  },
  {
   "cell_type": "code",
   "execution_count": 96,
   "metadata": {},
   "outputs": [
    {
     "data": {
      "text/plain": [
       "['6',\n",
       " 'and',\n",
       " 'wikis',\n",
       " 'control.',\n",
       " 'run',\n",
       " 'there',\n",
       " 'engines',\n",
       " 'emerge',\n",
       " 'word',\n",
       " 'to']"
      ]
     },
     "execution_count": 96,
     "metadata": {},
     "output_type": "execute_result"
    }
   ],
   "source": [
    "targets"
   ]
  },
  {
   "cell_type": "code",
   "execution_count": 97,
   "metadata": {},
   "outputs": [],
   "source": [
    "def test(items, targets):\n",
    "    count = 0\n",
    "    for i in range(1000000):\n",
    "        for item in items:\n",
    "            if item in targets:\n",
    "                count += 1\n",
    "                \n",
    "    "
   ]
  },
  {
   "cell_type": "code",
   "execution_count": 98,
   "metadata": {},
   "outputs": [
    {
     "name": "stdout",
     "output_type": "stream",
     "text": [
      "args None None None\n",
      "function cost 26.723082065582275.\n"
     ]
    }
   ],
   "source": [
    "with TimeRecord():\n",
    "    test(str_list, targets)"
   ]
  },
  {
   "cell_type": "code",
   "execution_count": 99,
   "metadata": {},
   "outputs": [],
   "source": [
    "str_dict = dict.fromkeys(str_list, 1)"
   ]
  },
  {
   "cell_type": "code",
   "execution_count": 102,
   "metadata": {},
   "outputs": [],
   "source": [
    "def test_with_dict(items, targets):\n",
    "    count = 0\n",
    "    for i in range(1000000):\n",
    "        for item in items:\n",
    "            if item in targets:\n",
    "                count += 1\n",
    "                "
   ]
  },
  {
   "cell_type": "code",
   "execution_count": 103,
   "metadata": {},
   "outputs": [
    {
     "name": "stdout",
     "output_type": "stream",
     "text": [
      "args None None None\n",
      "function cost 17.192354679107666.\n"
     ]
    }
   ],
   "source": [
    "with TimeRecord():\n",
    "    test_with_dict(str_dict, targets)\n",
    "    "
   ]
  },
  {
   "cell_type": "code",
   "execution_count": 1,
   "metadata": {},
   "outputs": [],
   "source": [
    "# set\n",
    "\n",
    "# set(a) & set(b) 查找 a, b 交集 "
   ]
  },
  {
   "cell_type": "code",
   "execution_count": 107,
   "metadata": {},
   "outputs": [
    {
     "data": {
      "text/plain": [
       "100"
      ]
     },
     "execution_count": 107,
     "metadata": {},
     "output_type": "execute_result"
    }
   ],
   "source": [
    "len(targets)"
   ]
  },
  {
   "cell_type": "code",
   "execution_count": 115,
   "metadata": {},
   "outputs": [],
   "source": [
    "def test_without_set(items, targets):\n",
    "    l = []\n",
    "    for _ in range(10000):\n",
    "        for item in items:\n",
    "            for t in targets:\n",
    "                if item == t:\n",
    "                    l.append(item)\n",
    "        "
   ]
  },
  {
   "cell_type": "code",
   "execution_count": 118,
   "metadata": {},
   "outputs": [],
   "source": [
    "def test_with_set(items, targets):\n",
    "    l = []\n",
    "    for _ in range(10000):\n",
    "        l.append(set(items) & set(targets))"
   ]
  },
  {
   "cell_type": "code",
   "execution_count": 119,
   "metadata": {},
   "outputs": [
    {
     "name": "stdout",
     "output_type": "stream",
     "text": [
      "args None None None\n",
      "function cost 0.08005809783935547.\n"
     ]
    }
   ],
   "source": [
    "with TimeRecord():\n",
    "    test_with_set(str_list, targets)"
   ]
  },
  {
   "cell_type": "code",
   "execution_count": 121,
   "metadata": {},
   "outputs": [
    {
     "name": "stdout",
     "output_type": "stream",
     "text": [
      "args None None None\n",
      "function cost 5.926951169967651.\n"
     ]
    }
   ],
   "source": [
    "with TimeRecord():\n",
    "    test_without_set(str_list, targets)"
   ]
  },
  {
   "cell_type": "code",
   "execution_count": 122,
   "metadata": {},
   "outputs": [],
   "source": [
    "def test_without_generator(items):\n",
    "    l = []\n",
    "    for _ in range(10000):\n",
    "        for item in items:\n",
    "            l.append(item)"
   ]
  },
  {
   "cell_type": "code",
   "execution_count": 123,
   "metadata": {},
   "outputs": [],
   "source": [
    "def test_with_generator(items):\n",
    "    l = []\n",
    "    for _ in range(10000):\n",
    "        t = (item for item in items)\n",
    "        l.append(l)"
   ]
  },
  {
   "cell_type": "code",
   "execution_count": 125,
   "metadata": {},
   "outputs": [
    {
     "name": "stdout",
     "output_type": "stream",
     "text": [
      "args None None None\n",
      "function cost 0.13115906715393066.\n"
     ]
    }
   ],
   "source": [
    "with TimeRecord():\n",
    "    test_without_generator(str_list)"
   ]
  },
  {
   "cell_type": "code",
   "execution_count": 126,
   "metadata": {},
   "outputs": [
    {
     "name": "stdout",
     "output_type": "stream",
     "text": [
      "args None None None\n",
      "function cost 0.0026671886444091797.\n"
     ]
    }
   ],
   "source": [
    "with TimeRecord():\n",
    "    test_with_generator(str_list)"
   ]
  },
  {
   "cell_type": "markdown",
   "metadata": {},
   "source": [
    "# 性能优化 -- 内存\n",
    "\n",
    "tool: memory_profiler (需要另外安装)\n",
    "\n",
    "__slots__\n",
    "\n",
    "缓存"
   ]
  },
  {
   "cell_type": "code",
   "execution_count": 133,
   "metadata": {},
   "outputs": [],
   "source": [
    "_CACHE = {}\n",
    "from math import sin\n",
    "def cached_sin(x):\n",
    "    if x not in _CACHE:\n",
    "        _CACHE[x] = sin(x)\n",
    "    return _CACHE[x]"
   ]
  },
  {
   "cell_type": "code",
   "execution_count": 132,
   "metadata": {},
   "outputs": [
    {
     "data": {
      "text/plain": [
       "0.8414709848078965"
      ]
     },
     "execution_count": 132,
     "metadata": {},
     "output_type": "execute_result"
    }
   ],
   "source": [
    "cached_sin(1)"
   ]
  },
  {
   "cell_type": "code",
   "execution_count": 131,
   "metadata": {},
   "outputs": [
    {
     "data": {
      "text/plain": [
       "{1: 0.8414709848078965, 2: 0.9092974268256817, 3: 0.1411200080598672}"
      ]
     },
     "execution_count": 131,
     "metadata": {},
     "output_type": "execute_result"
    }
   ],
   "source": [
    "_CACHE"
   ]
  },
  {
   "cell_type": "code",
   "execution_count": 134,
   "metadata": {},
   "outputs": [],
   "source": [
    "from functools import lru_cache"
   ]
  },
  {
   "cell_type": "code",
   "execution_count": 136,
   "metadata": {},
   "outputs": [],
   "source": [
    "def fib(n):\n",
    "    return 1 if n < 2 else fib(n-2) + fib(n-1)"
   ]
  },
  {
   "cell_type": "code",
   "execution_count": 155,
   "metadata": {},
   "outputs": [
    {
     "name": "stdout",
     "output_type": "stream",
     "text": [
      "args None None None\n",
      "function cost 30.017720699310303.\n"
     ]
    }
   ],
   "source": [
    "with TimeRecord():\n",
    "    r = fib(40)"
   ]
  },
  {
   "cell_type": "code",
   "execution_count": 160,
   "metadata": {},
   "outputs": [],
   "source": [
    "@lru_cache(128)\n",
    "def fib_with_cache(n):\n",
    "    return 1 if n < 2 else fib_with_cache(n-2) + fib_with_cache(n-1)    "
   ]
  },
  {
   "cell_type": "code",
   "execution_count": 161,
   "metadata": {},
   "outputs": [
    {
     "name": "stdout",
     "output_type": "stream",
     "text": [
      "function cost 1.9073486328125e-05.\n"
     ]
    }
   ],
   "source": [
    "with TimeRecord():\n",
    "    r = fib_with_cache(40)"
   ]
  },
  {
   "cell_type": "markdown",
   "metadata": {},
   "source": [
    "# 项目打包"
   ]
  },
  {
   "cell_type": "markdown",
   "metadata": {},
   "source": [
    "# 补充资料\n",
    "[](\n",
    "[How to Write Unit Tests and Mock with Pandas](https://coderbook.com/@marcus/how-to-mock-and-unit-test-with-pandas/)"
   ]
  },
  {
   "cell_type": "code",
   "execution_count": null,
   "metadata": {},
   "outputs": [],
   "source": []
  }
 ],
 "metadata": {
  "kernelspec": {
   "display_name": "Python 3",
   "language": "python",
   "name": "python3"
  },
  "language_info": {
   "codemirror_mode": {
    "name": "ipython",
    "version": 3
   },
   "file_extension": ".py",
   "mimetype": "text/x-python",
   "name": "python",
   "nbconvert_exporter": "python",
   "pygments_lexer": "ipython3",
   "version": "3.6.9"
  }
 },
 "nbformat": 4,
 "nbformat_minor": 4
}
